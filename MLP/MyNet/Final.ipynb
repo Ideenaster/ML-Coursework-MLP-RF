{
 "cells": [
  {
   "cell_type": "code",
   "execution_count": 2,
   "id": "initial_id",
   "metadata": {
    "collapsed": true,
    "ExecuteTime": {
     "end_time": "2024-05-09T07:19:21.465792800Z",
     "start_time": "2024-05-09T07:19:21.399416900Z"
    }
   },
   "source": [
    "import numpy as np\n",
    "import matplotlib.pyplot as plt\n",
    "import pandas as pd\n",
    "import seaborn as sns\n",
    "from Net_2 import *\n",
    "from sklearn.preprocessing import LabelEncoder"
   ],
   "outputs": []
  },
  {
   "cell_type": "code",
   "source": [
    "from sklearn.preprocessing import StandardScaler\n",
    "\n",
    "cat_cols=['Surname', 'Geography', 'Gender', 'Tenure', 'NumOfProducts', 'HasCrCard', 'IsActiveMember', 'Exited', 'binned_Age']\n",
    "num_cols=['CreditScore', 'Age', 'Balance', 'EstimatedSalary']\n",
    "\n",
    "data = pd.read_csv('data_ex/train.csv')\n",
    "# lab_CustomerId=LabelEncoder()\n",
    "# lab_Surname=LabelEncoder()\n",
    "lab_Gender=LabelEncoder()\n",
    "lab_Geography=LabelEncoder()\n",
    "lab_binned_Age=LabelEncoder()\n",
    "# data['CustomerId']=lab_CustomerId.fit_transform(data['CustomerId'])\n",
    "# data['Surname']=lab_Surname.fit_transform(data['Surname'])\n",
    "data['Gender']=lab_Gender.fit_transform(data['Gender'])\n",
    "data['Geography']=lab_Geography.fit_transform(data['Geography'])\n",
    "data['binned_Age']=pd.cut(data['Age'], bins=[0, 20, 30, 40, 50, 60, 70, 80, 90, 100], labels=[0, 1, 2, 3, 4, 5, 6, 7, 8])\n",
    "data['binned_Age']=lab_binned_Age.fit_transform(data['binned_Age'])\n",
    "scalar=StandardScaler()\n",
    "data[num_cols]=scalar.fit_transform(data[num_cols])"
   ],
   "metadata": {
    "collapsed": false,
    "ExecuteTime": {
     "end_time": "2024-05-09T07:19:21.656716900Z",
     "start_time": "2024-05-09T07:19:21.469519500Z"
    }
   },
   "id": "831053342f65ced9",
   "execution_count": 3,
   "outputs": []
  },
  {
   "cell_type": "markdown",
   "source": [
    "![jupyter](./image/CustomerId.png)\n",
    "![jupyter](./image/Surname.png)"
   ],
   "metadata": {
    "collapsed": false
   },
   "id": "6a26b5f9c743cc3d"
  },
  {
   "cell_type": "code",
   "source": [
    "#处理特征CustomerId与Surname\n",
    "#按照上述图片中的界限分桶counts = 20,40,80\n",
    "# 计算A特征的totalCounts\n",
    "# 计算CustomerId的totalCounts\n",
    "C_Id_counts = data['CustomerId'].value_counts()\n",
    "data['CustomerId'] = data.groupby('CustomerId')['CustomerId'].transform('count')\n",
    "# 根据totalCounts将CustomerId划分为四个区间\n",
    "bins = [0, 20, 40, 80,C_Id_counts.max()+1]\n",
    "labels = [0, 1, 2, 3]\n",
    "data['CustomerId_binned'] = pd.cut(data['CustomerId'], bins=bins, labels=labels)\n",
    "\n",
    "Surname_counts = data['Surname'].value_counts()\n",
    "data['Surname'] = data.groupby('Surname')['Surname'].transform('count')\n",
    "# 根据totalCounts将Surname划分为四个区间\n",
    "bins = [0, 200, 800,Surname_counts.max()+1]\n",
    "labels = [0, 1, 2]\n",
    "data['Surname_binned'] = pd.cut(data['Surname'], bins=bins, labels=labels)"
   ],
   "metadata": {
    "collapsed": false,
    "ExecuteTime": {
     "end_time": "2024-05-09T07:35:13.197900Z",
     "start_time": "2024-05-09T07:35:13.168225Z"
    }
   },
   "id": "18b74ac40c2229db",
   "execution_count": 13,
   "outputs": []
  },
  {
   "cell_type": "code",
   "source": [
    "X=data.drop(['Exited', 'id' , 'CustomerId' , 'Surname'], axis=1).values\n",
    "y=data['Exited'].values\n",
    "from sklearn.model_selection import train_test_split\n",
    "X_train, X_test, y_train, y_test = train_test_split(X, y, test_size=0.2)\n",
    "X_train"
   ],
   "metadata": {
    "collapsed": false,
    "ExecuteTime": {
     "end_time": "2024-05-09T07:19:21.768718600Z",
     "start_time": "2024-05-09T07:19:21.704839500Z"
    }
   },
   "id": "103c5c4ed0dcfc97",
   "execution_count": 5,
   "outputs": []
  },
  {
   "cell_type": "code",
   "source": [
    "net = Network([X_train.shape[1],13,1],[sigmoid,sigmoid])  # 修改网络结构以匹配Sequential模型\n",
    "history = net.train(X_train, y_train, 10, 32, 0.1)"
   ],
   "metadata": {
    "collapsed": false,
    "ExecuteTime": {
     "end_time": "2024-05-09T07:58:34.136444700Z",
     "start_time": "2024-05-09T07:54:37.701695900Z"
    }
   },
   "id": "ab79690faa241ade",
   "execution_count": 22,
   "outputs": []
  },
  {
   "cell_type": "code",
   "source": [
    "# 评估网络性能\n",
    "acc, precision, recall, f1,cost= net.evaluate(zip(X_test, y_test))\n",
    "print('acc:', acc)\n",
    "print('precision:', precision)\n",
    "print('recall:', recall)\n",
    "print('f1:', f1)\n",
    "print('cost:', cost)"
   ],
   "metadata": {
    "collapsed": false,
    "ExecuteTime": {
     "end_time": "2024-05-09T07:58:39.273446400Z",
     "start_time": "2024-05-09T07:58:38.386046700Z"
    }
   },
   "id": "9033d2d01a5856d0",
   "execution_count": 23,
   "outputs": []
  },
  {
   "cell_type": "code",
   "source": [
    "# 将history转置，使得每个指标为一个列表\n",
    "acc, precision, recall, f1, _ = zip(*history)\n",
    "\n",
    "epochs = range(1, len(history) + 1)\n",
    "\n",
    "# 绘制每个指标的曲线\n",
    "plt.figure(figsize=(12, 6))\n",
    "\n",
    "plt.plot(epochs, acc, 'b', label='Accuracy')\n",
    "plt.plot(epochs, precision, 'g', label='Precision')\n",
    "plt.plot(epochs, recall, 'r', label='Recall')\n",
    "plt.plot(epochs, f1, 'c', label='F1 Score')\n",
    "#x轴刻度为整数\n",
    "plt.xticks(epochs)\n",
    "plt.title('Training Metrics Over Epochs')\n",
    "plt.xlabel('Epochs')\n",
    "plt.ylabel('Metrics')\n",
    "plt.legend()\n",
    "\n",
    "plt.grid(True)\n",
    "plt.savefig(\"image/final.svg\")"
   ],
   "metadata": {
    "collapsed": false,
    "ExecuteTime": {
     "end_time": "2024-05-09T07:58:54.355796800Z",
     "start_time": "2024-05-09T07:58:54.166191Z"
    }
   },
   "id": "521be69ebcb8cf84",
   "execution_count": 24,
   "outputs": []
  },
  {
   "cell_type": "code",
   "source": [
    "#预测test数据\n",
    "lab = LabelEncoder()\n",
    "data_test = pd.read_csv('data_ex/test.csv')\n",
    "data_test['Gender']=lab_Gender.transform(data_test['Gender'])\n",
    "data_test['Geography']=lab_Geography.transform(data_test['Geography'])\n",
    "data_test['binned_Age']=pd.cut(data_test['Age'], bins=[0, 20, 30, 40, 50, 60, 70, 80, 90, 100], labels=[0, 1, 2, 3, 4, 5, 6, 7, 8])\n",
    "data_test['binned_Age']=lab_binned_Age.transform(data_test['binned_Age'])\n",
    "data_test[num_cols]=scalar.transform(data_test[num_cols])\n",
    "data_test['CustomerId'] = data_test.groupby('CustomerId')['CustomerId'].transform('count')\n",
    "bins = [0, 20, 40, 80,C_Id_counts.max()+1]\n",
    "labels = [0, 1, 2, 3]\n",
    "data_test['CustomerId_binned'] = pd.cut(data_test['CustomerId'], bins=bins, labels=labels)\n",
    "data_test['Surname'] = data_test.groupby('Surname')['Surname'].transform('count')\n",
    "bins = [0, 200, 800,Surname_counts.max()+1]\n",
    "labels = [0, 1, 2]\n",
    "data_test['Surname_binned'] = pd.cut(data_test['Surname'], bins=bins, labels=labels)\n",
    "X= data_test.drop([ 'id', 'CustomerId', 'Surname'], axis=1).values\n",
    "X"
   ],
   "metadata": {
    "collapsed": false,
    "ExecuteTime": {
     "end_time": "2024-05-09T07:59:10.382401400Z",
     "start_time": "2024-05-09T07:59:10.222235800Z"
    }
   },
   "id": "f8f9f4e1080a0d38",
   "execution_count": 25,
   "outputs": []
  },
  {
   "cell_type": "code",
   "source": [
    "y_pred = np.array([net.Forward_prop(x) for x in X])\n",
    "result = pd.DataFrame({'id':data_test['id'], 'Exited':y_pred[:,0]})\n",
    "result.to_csv('result_final.csv',index=False)\n"
   ],
   "metadata": {
    "collapsed": false,
    "ExecuteTime": {
     "end_time": "2024-05-09T07:59:14.252544600Z",
     "start_time": "2024-05-09T07:59:11.775332200Z"
    }
   },
   "id": "da9d3a02257630fb",
   "execution_count": 26,
   "outputs": []
  },
  {
   "cell_type": "code",
   "source": [
    "#保存模型\n",
    "import pickle\n",
    "with open('model.pkl', 'wb') as f:\n",
    "    pickle.dump(net, f)"
   ],
   "metadata": {
    "collapsed": false,
    "ExecuteTime": {
     "end_time": "2024-05-09T08:00:15.151926700Z",
     "start_time": "2024-05-09T08:00:15.143611900Z"
    }
   },
   "id": "9b0f3ead8753f060",
   "execution_count": 27,
   "outputs": []
  },
  {
   "cell_type": "code",
   "source": [],
   "metadata": {
    "collapsed": false
   },
   "id": "b8ec8f25bac29e4",
   "execution_count": null,
   "outputs": []
  }
 ],
 "metadata": {
  "kernelspec": {
   "display_name": "Python 3",
   "language": "python",
   "name": "python3"
  },
  "language_info": {
   "codemirror_mode": {
    "name": "ipython",
    "version": 2
   },
   "file_extension": ".py",
   "mimetype": "text/x-python",
   "name": "python",
   "nbconvert_exporter": "python",
   "pygments_lexer": "ipython2",
   "version": "2.7.6"
  }
 },
 "nbformat": 4,
 "nbformat_minor": 5
}
