{
 "cells": [
  {
   "cell_type": "code",
   "execution_count": 2,
   "id": "initial_id",
   "metadata": {
    "collapsed": true,
    "ExecuteTime": {
     "end_time": "2024-05-09T06:57:32.185523900Z",
     "start_time": "2024-05-09T06:57:32.171440900Z"
    }
   },
   "source": [
    "import numpy as np\n",
    "import matplotlib.pyplot as plt\n",
    "import seaborn as sns\n",
    "import pandas as pd"
   ],
   "outputs": []
  },
  {
   "cell_type": "code",
   "source": [
    "# 加载数据\n",
    "data = pd.read_csv('data_ex/train.csv')\n",
    "data.head()"
   ],
   "metadata": {
    "collapsed": false,
    "ExecuteTime": {
     "end_time": "2024-05-09T06:57:32.389170800Z",
     "start_time": "2024-05-09T06:57:32.187714200Z"
    }
   },
   "id": "8a7686307db8ded6",
   "execution_count": 3,
   "outputs": []
  },
  {
   "cell_type": "code",
   "source": [
    "# 查看数据的基本信息\n",
    "data.info()\n",
    "# 查看数据的统计信息\n",
    "data.describe()"
   ],
   "metadata": {
    "collapsed": false,
    "ExecuteTime": {
     "end_time": "2024-05-09T06:57:32.490347900Z",
     "start_time": "2024-05-09T06:57:32.371961600Z"
    }
   },
   "id": "8f93ac34a0ebfe22",
   "execution_count": 4,
   "outputs": []
  },
  {
   "cell_type": "code",
   "source": [
    "#分析Exited列的不均衡分布\n",
    "data['Exited'].value_counts()\n",
    "#绘图饼图\n",
    "data['Exited'].value_counts().plot.pie(autopct='%1.2f%%')\n",
    "plt.savefig('image/Exited.svg')"
   ],
   "metadata": {
    "collapsed": false,
    "ExecuteTime": {
     "end_time": "2024-05-09T06:57:32.620331600Z",
     "start_time": "2024-05-09T06:57:32.455915Z"
    }
   },
   "id": "91a2c054c5ad2d5",
   "execution_count": 5,
   "outputs": []
  },
  {
   "cell_type": "code",
   "source": [
    "#研究特征CustomerId\n",
    "data['CustomerId'].value_counts()"
   ],
   "metadata": {
    "collapsed": false,
    "ExecuteTime": {
     "end_time": "2024-05-09T06:57:32.621473300Z",
     "start_time": "2024-05-09T06:57:32.537583300Z"
    }
   },
   "id": "c9d38c2f61bda256",
   "execution_count": 6,
   "outputs": []
  },
  {
   "cell_type": "code",
   "source": [
    "#进行CustomerID和Exited的相关性分析,进行卡方检验\n",
    "from scipy.stats import chi2_contingency\n",
    "crosstab = pd.crosstab(data['CustomerId'], data['Exited'])\n",
    "chi2, p, dof, expected = chi2_contingency(crosstab)\n",
    "print('chi2:', chi2)\n",
    "print('p:', p)\n",
    "print('dof:', dof)"
   ],
   "metadata": {
    "collapsed": false,
    "ExecuteTime": {
     "end_time": "2024-05-09T06:57:32.807728400Z",
     "start_time": "2024-05-09T06:57:32.547969Z"
    }
   },
   "id": "c63d54d3f59432fa",
   "execution_count": 7,
   "outputs": []
  },
  {
   "cell_type": "markdown",
   "source": [
    "- 客户 ID 和是否流失之间存在强烈的相关性。卡方统计量 (23690.199022922447) 非常大。\n",
    "- 该相关性在统计上是显着的。这是因为 p 值 (0.014986908807046184) 小于常见的显著性水平 (例如 0.05)。\n",
    "- 自由度为 23220，表明用于创建交叉表的样本量很大。"
   ],
   "metadata": {
    "collapsed": false
   },
   "id": "f1a9074254595ed6"
  },
  {
   "cell_type": "code",
   "source": [
    "# 计算每个CustomerId的总数\n",
    "total_counts = data['CustomerId'].value_counts()\n",
    "\n",
    "# 计算每个CustomerId中Exited为1的数量\n",
    "exited_counts = data[data['Exited'] == 1]['CustomerId'].value_counts()\n",
    "\n",
    "# 计算每个CustomerId中Exited为1的占比\n",
    "exited_ratio = exited_counts / total_counts\n",
    "\n",
    "# 创建一个新的DataFrame，包含每个CustomerId的总数和Exited为1的占比\n",
    "result = pd.DataFrame({\n",
    "    'TotalCounts': total_counts,\n",
    "    'ExitedRatio': exited_ratio\n",
    "})\n",
    "\n",
    "# 用0填充NaN值\n",
    "result = result.fillna(0)\n",
    "result"
   ],
   "metadata": {
    "collapsed": false,
    "ExecuteTime": {
     "end_time": "2024-05-09T06:57:32.834203400Z",
     "start_time": "2024-05-09T06:57:32.801268500Z"
    }
   },
   "id": "d3aef793ff54ee1c",
   "execution_count": 8,
   "outputs": []
  },
  {
   "cell_type": "code",
   "source": [
    "#可视化result\n",
    "#以ExitedRatio为y轴，TotalCounts为x轴，绘制散点图\n",
    "#seaborn\n",
    "sns.scatterplot(x='TotalCounts', y='ExitedRatio', data=result)\n",
    "plt.savefig('image/CustomerId.png')"
   ],
   "metadata": {
    "collapsed": false,
    "ExecuteTime": {
     "end_time": "2024-05-09T06:57:33.109989600Z",
     "start_time": "2024-05-09T06:57:32.828974600Z"
    }
   },
   "id": "68375f35a3e6872f",
   "execution_count": 9,
   "outputs": []
  },
  {
   "cell_type": "code",
   "source": [
    "#研究特征Surname\n",
    "data['Surname'].value_counts()"
   ],
   "metadata": {
    "collapsed": false,
    "ExecuteTime": {
     "end_time": "2024-05-09T06:57:33.123548900Z",
     "start_time": "2024-05-09T06:57:33.103510300Z"
    }
   },
   "id": "555f3ad77a527a4a",
   "execution_count": 10,
   "outputs": []
  },
  {
   "cell_type": "code",
   "source": [
    "#进行Surname和Exited的相关性分析\n",
    "total_counts = data['Surname'].value_counts()\n",
    "exited_counts = data[data['Exited'] == 1]['Surname'].value_counts()\n",
    "\n",
    "exited_ratio = exited_counts / total_counts\n",
    "result = pd.DataFrame({\n",
    "    'TotalCounts': total_counts,\n",
    "    'ExitedRatio': exited_ratio\n",
    "})\n",
    "result = result.fillna(0)\n",
    "sns.scatterplot(x='TotalCounts', y='ExitedRatio', data=result)\n",
    "#x轴每100个单位，y轴每0.1个单位\n",
    "plt.xticks(np.arange(0, total_counts.max(),200),rotation=45)\n",
    "plt.savefig('image/Surname.png')"
   ],
   "metadata": {
    "collapsed": false,
    "ExecuteTime": {
     "end_time": "2024-05-09T07:00:16.279194300Z",
     "start_time": "2024-05-09T07:00:16.078433900Z"
    }
   },
   "id": "d5f1865b6d20a1ec",
   "execution_count": 21,
   "outputs": []
  },
  {
   "cell_type": "code",
   "source": [
    "#研究tenure\n",
    "data['Tenure'].value_counts()"
   ],
   "metadata": {
    "collapsed": false,
    "ExecuteTime": {
     "end_time": "2024-05-09T06:57:33.348584100Z",
     "start_time": "2024-05-09T06:57:33.344212700Z"
    }
   },
   "id": "8aa007136c67b2da",
   "execution_count": 12,
   "outputs": []
  },
  {
   "cell_type": "code",
   "source": [
    "#分析年龄数据的分布情况\n",
    "#分桶后绘图 seaborn\n",
    "plt.figure(figsize=(12, 6))\n",
    "plt.subplot(1, 2, 1)\n",
    "sns.histplot(data['Age'],bins = 10)\n",
    "plt.subplot(1, 2, 2)\n",
    "sns.histplot(np.log1p(data['Age']), bins = 10)\n",
    "plt.savefig('image/Age.svg')    "
   ],
   "metadata": {
    "collapsed": false,
    "ExecuteTime": {
     "end_time": "2024-05-09T06:57:33.885132900Z",
     "start_time": "2024-05-09T06:57:33.349618400Z"
    }
   },
   "id": "94d3c19af88b84c1",
   "execution_count": 13,
   "outputs": []
  },
  {
   "cell_type": "code",
   "source": [
    "#分析地理位置和流失之间的关系\n",
    "#x轴为Geography，每一类分两列表示Exited为0和1的数量，y轴为计数\n",
    "#seaborn\n",
    "plt.figure(figsize=(12, 6))\n",
    "sns.countplot(x='Geography', hue='Exited', data=data)\n",
    "plt.savefig('image/Geo.svg')"
   ],
   "metadata": {
    "collapsed": false,
    "ExecuteTime": {
     "end_time": "2024-05-09T06:57:34.335197800Z",
     "start_time": "2024-05-09T06:57:33.879415900Z"
    }
   },
   "id": "88f7a2944666d013",
   "execution_count": 14,
   "outputs": []
  },
  {
   "cell_type": "code",
   "source": [],
   "metadata": {
    "collapsed": false,
    "ExecuteTime": {
     "end_time": "2024-05-09T06:57:34.337664500Z",
     "start_time": "2024-05-09T06:57:34.335197800Z"
    }
   },
   "id": "ab66afd7e7a78da7",
   "execution_count": 14,
   "outputs": []
  }
 ],
 "metadata": {
  "kernelspec": {
   "display_name": "Python 3",
   "language": "python",
   "name": "python3"
  },
  "language_info": {
   "codemirror_mode": {
    "name": "ipython",
    "version": 2
   },
   "file_extension": ".py",
   "mimetype": "text/x-python",
   "name": "python",
   "nbconvert_exporter": "python",
   "pygments_lexer": "ipython2",
   "version": "2.7.6"
  }
 },
 "nbformat": 4,
 "nbformat_minor": 5
}
