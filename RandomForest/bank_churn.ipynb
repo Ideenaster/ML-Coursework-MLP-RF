{
 "cells": [
  {
   "cell_type": "code",
   "id": "initial_id",
   "metadata": {
    "collapsed": true,
    "ExecuteTime": {
     "end_time": "2024-05-14T01:32:23.278354Z",
     "start_time": "2024-05-14T01:32:22.688234Z"
    }
   },
   "source": [
    "import pandas as pd\n",
    "import numpy as np\n",
    "from RandomForest import RandomForestClassifier\n",
    "from Decision_Tree import DecisionTreeClassifier\n",
    "from sklearn.model_selection import train_test_split\n",
    "from sklearn.preprocessing import LabelEncoder"
   ],
   "execution_count": 1,
   "outputs": []
  },
  {
   "cell_type": "code",
   "source": [
    "cat_cols=['Surname', 'Geography', 'Gender', 'Tenure', 'NumOfProducts', 'HasCrCard', 'IsActiveMember', 'Exited']\n",
    "num_cols=['CreditScore','Balance', 'EstimatedSalary']\n",
    "data = pd.read_csv(\"data/train.csv\")\n",
    "data['binned_Age']=pd.cut(data['Age'], bins=[0, 20, 30, 40, 50, 60, 70, 80, 90, 100], labels=[0, 1, 2, 3, 4, 5, 6, 7, 8])\n",
    "data.drop(['Age'], axis=1, inplace=True)\n",
    "#对其他数值类特征进行分桶\n",
    "#分为10个桶，均匀\n",
    "for col in num_cols:\n",
    "    data['binned_'+col]=pd.cut(data[col], bins=10, labels=False)\n",
    "    data.drop([col], axis=1, inplace=True)\n",
    "#对所有特征进行编码\n",
    "for col in data.columns:\n",
    "    data[col] = LabelEncoder().fit_transform(data[col])"
   ],
   "metadata": {
    "collapsed": false,
    "ExecuteTime": {
     "end_time": "2024-05-14T01:32:23.584799Z",
     "start_time": "2024-05-14T01:32:23.278354Z"
    }
   },
   "id": "ea52ec90e4d925f5",
   "execution_count": 2,
   "outputs": []
  },
  {
   "metadata": {
    "ExecuteTime": {
     "end_time": "2024-05-14T01:40:10.043362Z",
     "start_time": "2024-05-14T01:40:09.997400Z"
    }
   },
   "cell_type": "code",
   "source": [
    "train_data = data.drop(['id','CustomerId','Surname'], axis=1)\n",
    "X = train_data.drop(['Exited'], axis=1)\n",
    "y = train_data['Exited'].values\n",
    "#train,test划分\n",
    "X_train, X_test, y_train, y_test = train_test_split(X,y,test_size=0.2, random_state=0)\n",
    "X_train"
   ],
   "id": "692030094013c769",
   "execution_count": 15,
   "outputs": []
  },
  {
   "cell_type": "code",
   "source": [
    "\n",
    "forest = RandomForestClassifier(n_estimators=100,max_depth = 10,min_samples_split=5,max_features=7)\n",
    "forest.fit(X_train, y_train)\n",
    "y_pred = forest.predict_proba(X_test)\n",
    "#将y_pred转换为0,1\n",
    "y_pred = y_pred[:,1]\n",
    "y_pred = np.where(y_pred>0.5,1,0)\n",
    "accuracy = np.mean(y_pred == y_test)\n",
    "accuracy"
   ],
   "metadata": {
    "collapsed": false,
    "ExecuteTime": {
     "end_time": "2024-05-14T01:35:50.508326Z",
     "start_time": "2024-05-14T01:33:27.856684Z"
    }
   },
   "id": "2cf51710521a664",
   "execution_count": 9,
   "outputs": []
  },
  {
   "metadata": {
    "ExecuteTime": {
     "end_time": "2024-05-14T01:38:21.369740Z",
     "start_time": "2024-05-14T01:38:13.523460Z"
    }
   },
   "cell_type": "code",
   "source": [
    "y_pred = forest.predict_proba(X_test)\n",
    "#将y_pred转换为0,1\n",
    "y_pred = forest.predict(X_test)\n",
    "accuracy = np.mean(y_pred == y_test)\n",
    "accuracy"
   ],
   "id": "745e39dbe81de8cc",
   "execution_count": 11,
   "outputs": []
  },
  {
   "metadata": {
    "ExecuteTime": {
     "end_time": "2024-05-14T01:38:41.293850Z",
     "start_time": "2024-05-14T01:38:28.312404Z"
    }
   },
   "cell_type": "code",
   "source": [
    "test_data = pd.read_csv(\"data/test.csv\")\n",
    "test_data['binned_Age']=pd.cut(test_data['Age'], bins=[0, 20, 30, 40, 50, 60, 70, 80, 90, 100], labels=[0, 1, 2, 3, 4, 5, 6, 7, 8])\n",
    "test_data.drop(['Age'], axis=1, inplace=True)\n",
    "#对其他数值类特征进行分桶\n",
    "#分为10个桶，均匀\n",
    "for col in num_cols:\n",
    "    test_data['binned_'+col]=pd.cut(test_data[col], bins=10, labels=False)\n",
    "    test_data.drop([col], axis=1, inplace=True)\n",
    "#对所有特征进行编码\n",
    "for col in test_data.columns.drop(['id','CustomerId','Surname']):\n",
    "    test_data[col] = LabelEncoder().fit_transform(test_data[col])\n",
    "y_pred = forest.predict_proba(test_data.drop(['id','CustomerId','Surname'], axis=1).values)\n",
    "#输出为正类的概率\n",
    "y_pred = y_pred[:,1]\n",
    "y_pred"
   ],
   "id": "ae08c72cba330510",
   "execution_count": 13,
   "outputs": []
  },
  {
   "metadata": {
    "ExecuteTime": {
     "end_time": "2024-05-14T01:38:44.487806Z",
     "start_time": "2024-05-14T01:38:44.398396Z"
    }
   },
   "cell_type": "code",
   "source": [
    "#将id作为第一列，预测结果为第二列，列名为id和Exited，导出为csv文件\n",
    "result = pd.DataFrame({'id':test_data['id'],'Exited':y_pred})\n",
    "result.to_csv('result.csv',index=False)"
   ],
   "id": "4c77eb7da064d430",
   "execution_count": 14,
   "outputs": []
  },
  {
   "metadata": {
    "ExecuteTime": {
     "end_time": "2024-05-14T01:44:38.797664Z",
     "start_time": "2024-05-14T01:44:38.583618Z"
    }
   },
   "cell_type": "code",
   "source": [
    "import pickle\n",
    "#保存模型\n",
    "with open('model.pkl','wb') as f:\n",
    "    pickle.dump(forest,f)"
   ],
   "id": "87f59e8069640d69",
   "execution_count": 16,
   "outputs": []
  }
 ],
 "metadata": {
  "kernelspec": {
   "display_name": "Python 3",
   "language": "python",
   "name": "python3"
  },
  "language_info": {
   "codemirror_mode": {
    "name": "ipython",
    "version": 2
   },
   "file_extension": ".py",
   "mimetype": "text/x-python",
   "name": "python",
   "nbconvert_exporter": "python",
   "pygments_lexer": "ipython2",
   "version": "2.7.6"
  }
 },
 "nbformat": 4,
 "nbformat_minor": 5
}
